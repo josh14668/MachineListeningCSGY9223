{
 "cells": [
  {
   "cell_type": "markdown",
   "id": "bec66dbf-dd17-48c9-9c56-1f32d7cce42f",
   "metadata": {},
   "source": [
    "# Assignment 1: Sound Processing Fundamentals\n",
    "\n",
    "CS-GY 9223: Machine Listening\n",
    "\n",
    "Below you will find a mix of coding questions and writing questions to familiarize you with the fundamentals of signal processing in Python.\n",
    "\n",
    "**Read through the text, code, and comments carefully and fill-in the blanks accordingly. Written questions will be denoted with❓, and code questions will be explained in code comments, with \"TODO\" markers.**\n",
    "\n",
    "**For all plots, include axis labels with units of measurement when applicable. Lack of this will result in small points deductions.**\n",
    "\n",
    "The assignment will be 10 points total, with coding and text questions labeled with associated point values.\n",
    "There is a 0.5 point **extra credit** question at the end of the assignment!\n"
   ]
  },
  {
   "cell_type": "code",
   "execution_count": null,
   "id": "a2ba22cb-9894-45ad-8afc-8e95121b25a0",
   "metadata": {},
   "outputs": [],
   "source": [
    "# Start by importing necessary packages\n",
    "import numpy as np\n",
    "import matplotlib.pyplot as plt\n",
    "import IPython # useful for playing audio in the notebook\n",
    "import librosa\n",
    "from scipy import signal"
   ]
  },
  {
   "cell_type": "markdown",
   "id": "9279d126-50f0-45ae-8184-3c3190b09de3",
   "metadata": {},
   "source": [
    "---"
   ]
  },
  {
   "cell_type": "markdown",
   "id": "2aaaad1e-585f-4891-b386-bcce8491c5df",
   "metadata": {},
   "source": [
    "## Part 1: Basics [2 pts]\n",
    "Let's start by getting familiar with the basics of working with audio signals in Python.\n",
    "\n",
    "### Working with simple waveforms\n",
    "First, recall the equation for the simplest periodic wave, a **sinusoid**:\n",
    "\n",
    "$x(t) = A * sin(2\\pi ft + \\theta)$\n",
    "\n",
    "where $A$ is amplitude, $f$ is frequency, $t$ is time, and $\\theta$ is phase.\n",
    "\n",
    "**Before writing any code:** \n",
    "\n",
    "\n",
    "❓ **1.**  What is the total number of samples for a 4-second sine wave with a sampling rate of 32,000 (i.e. 32kHz)? [0.1 pt]\n",
    "\n",
    "- **ANSWER**: \n",
    "\n",
    "\n",
    "❓ **2.**  I have a sine wave with 32,000 samples and I know it is 2 seconds long. What is the sampling rate? [0.1 pt]\n",
    "\n",
    "- **ANSWER**: "
   ]
  },
  {
   "cell_type": "code",
   "execution_count": null,
   "id": "b6cada7c-de1a-446e-9255-3d4ac4f4d726",
   "metadata": {},
   "outputs": [],
   "source": [
    "# TODO : Write a function to generate a sine wave. [0.5 pts]\n",
    "\n",
    "def get_sinusoid(amplitude, frequency, duration, sr, phase=0):\n",
    "    \"\"\"\n",
    "    Generate a sine wave signal.\n",
    "\n",
    "    Parameters:\n",
    "    ----------\n",
    "    amplitude : float\n",
    "        The peak amplitude of the sine wave.\n",
    "    frequency : float\n",
    "        The frequency of the sine wave in Hertz (Hz).\n",
    "    duration : float\n",
    "        The duration of the sine wave in seconds.\n",
    "    sr : int\n",
    "        The sampling rate, in samples per second (Hz).\n",
    "    phase : float, optional\n",
    "        The initial phase of the sine wave in radians. Default is 0.\n",
    "\n",
    "    Returns:\n",
    "    -------\n",
    "    numpy.ndarray\n",
    "        A 1D array containing the generated sine wave samples.\n",
    "    \"\"\"\n",
    "    return\n"
   ]
  },
  {
   "cell_type": "code",
   "execution_count": null,
   "id": "717384e7-86c9-4b74-9bd4-4271c7a067f6",
   "metadata": {},
   "outputs": [],
   "source": [
    "# TODO : Use your function to generate two sine waves [0.1 pt]\n",
    "\"\"\"\n",
    "`wav1`: amp = 1, freq=440, duration=0.5, sr=16000, phase=0\n",
    "`wav2`: amp = 0.5, freq=1000, duration=0.5, sr=16000, phase=0\n",
    "\"\"\"\n",
    "wav1 = None\n",
    "wav2 = None"
   ]
  },
  {
   "cell_type": "code",
   "execution_count": null,
   "id": "a0c62359-6d9d-4180-94a6-5cd30733facc",
   "metadata": {},
   "outputs": [],
   "source": [
    "# TODO : Use matplotlib to plot *the first 200 samples* of your two waveforms on the same plot [0.1 pt]\n",
    "# Hint: plt.plot(wav....) \n",
    "# Hint 2: Use 'marker = '.' in your plot to show the discretization of your signal.\n"
   ]
  },
  {
   "cell_type": "code",
   "execution_count": null,
   "id": "fc5657f3-97cc-407f-8571-d1d29ca79f4a",
   "metadata": {},
   "outputs": [],
   "source": [
    "# TODO : Use IPython to play your audio in the notebook and listen to your audio! [0.1 pt]\n",
    "# Ref: https://musicinformationretrieval.com/ipython_audio.html#IPython.display.Audio\n"
   ]
  },
  {
   "cell_type": "code",
   "execution_count": null,
   "id": "f063ed6f-3084-4df9-9905-e6b0a1ec1c0b",
   "metadata": {},
   "outputs": [],
   "source": [
    "# TODO : Add wav1 and and wav1 together (or multiply it by 2) \n",
    "# Examine this result with a plot and listen to the audio [0.05 pts]\n",
    "\n",
    "\n",
    "# TODO : Plot the sum of wav1 an wav2. [0.05 pts]\n"
   ]
  },
  {
   "cell_type": "markdown",
   "id": "aff81e9a-73ed-4d7a-a36b-f894049aa607",
   "metadata": {},
   "source": [
    "##### Taking a closer look at sample rate..."
   ]
  },
  {
   "cell_type": "code",
   "execution_count": null,
   "id": "df77c811-9b2c-4502-ad2a-1b2660456926",
   "metadata": {},
   "outputs": [],
   "source": [
    "# TODO Generate two sine waves with the following parameters: [0.1 pt]\n",
    "\"\"\"\n",
    "`sr1`: amp=1, freq=200, duration=0.1, sr=300, phase=0\n",
    "`sr2`: amp=1, freq=200, duration=0.1, sr=2000, phase=0\n",
    "\"\"\"\n",
    "sr1 = None\n",
    "sr2 = None\n",
    "\n",
    "# TODO Plot the two sine waves on the same plot, with a legend showing their sample rates. [0.1 pt]\n"
   ]
  },
  {
   "cell_type": "markdown",
   "id": "0a80ffc2-887e-4b8a-a7ce-66b6230a1db6",
   "metadata": {},
   "source": [
    "❓ **3.** Above, the waveform with a frequency of 200 and sample rate of 300 illustrates the phenomena of _________. Explain how this is shown in your  plot. [0.1 pt]\n",
    "\n",
    "- **ANSWER**: \n"
   ]
  },
  {
   "cell_type": "markdown",
   "id": "2394d43f-cab2-4126-9e98-5b97ba476029",
   "metadata": {},
   "source": [
    "\n",
    "\n",
    "---\n",
    "#### What about other types of waveforms?\n",
    "\n",
    "Before we move on, let's experiment with one other waveform type: the **sawtooth** wave as seen in class. The closed form equation here is a bit trickier, so we'll use `scipy`'s built in function: https://docs.scipy.org/doc/scipy/reference/generated/scipy.signal.sawtooth.html#sawtooth\n"
   ]
  },
  {
   "cell_type": "code",
   "execution_count": null,
   "id": "7069c185-e7c3-4cf0-a432-d0c55df094c2",
   "metadata": {},
   "outputs": [],
   "source": [
    "# TODO: define a sine wave AND a sawtooth wave (using SciPY) using the following parameters: [0.1 pt]\n",
    "\"\"\"\n",
    "params: amp = 1, freq=440, duration=1, sr=16000, phase=0\n",
    "\"\"\"\n",
    "sin = None\n",
    "saw = None\n",
    "\n",
    "# TODO : Plot the sine and sawtooth waves overlayed (plot :200 for clarity) [0.1 pt]\n"
   ]
  },
  {
   "cell_type": "markdown",
   "id": "2753dd9f-b938-4669-a3c1-3d27a1d76ddc",
   "metadata": {},
   "source": [
    "❓ **4.** The sawtooth wave is made up of the fundamental frequency and _____(s) , while the sine wave only has its fundamental frequency. [0.1 pt]\n",
    "\n",
    "\n",
    "- **ANSWER:**\n",
    "\n"
   ]
  },
  {
   "cell_type": "markdown",
   "id": "e865dd65-aace-4467-adb0-97164548a14e",
   "metadata": {},
   "source": [
    "\n",
    "\n",
    "---\n",
    "\n",
    "\n",
    "### Loading audio clips\n",
    "Before we get more complicated with simple signals, let's also make sure you know how to load a real-world audio clip in Python.\n",
    "\n",
    "**[Librosa](https://librosa.org/doc/latest/index.html)** is an awesome library for audio processing in Python, created by Brian McFee (NYU Professor!). We will use Librosa a lot in this class.\n",
    "\n",
    "For now let's just load files with Librosa: https://librosa.org/doc/0.10.2/generated/librosa.load.html#librosa-load.\n"
   ]
  },
  {
   "cell_type": "code",
   "execution_count": null,
   "id": "74655cb3-96e5-4d70-a1f2-d426c5e07ce6",
   "metadata": {},
   "outputs": [],
   "source": [
    "# TODO : Run these first two commands and read the notes [this whole cell: 0.2 pt]\n",
    "# Librosa has some sample files we can play with:\n",
    "# If you don't use a sample file, just replace filename with your actual file (i.e. myaudio.wav)\n",
    "filename = librosa.ex('trumpet')\n",
    "\n",
    "# There are many parameters to librosa.load (see docs above)\n",
    "# sr (sample rate) is likely the most important one\n",
    "# If you pass sr=None, the default sample rate of the file is used.\n",
    "# If you pass sr=16000, the file will be resampled to that specified sr\n",
    "\n",
    "# Load our audio file at default sample rate, get our signal and loaded sr \n",
    "y, sr = librosa.load(filename, sr=None)\n",
    "\n",
    "# TODO : print the total number of samples, sampling rate, and duration of file (`y`) in seconds [0.05]\n",
    "\n",
    "\n",
    "# TODO: plot the signal \n"
   ]
  },
  {
   "cell_type": "code",
   "execution_count": null,
   "id": "c7c5b35a-fca7-4e5e-9be4-436978c4e774",
   "metadata": {},
   "outputs": [],
   "source": [
    "# TODO : Play the signal at the original sample rate [0.05 pt]\n",
    "# Then load the trumpet file at sr=4000, and play that too. Observe the differences!\n"
   ]
  },
  {
   "cell_type": "markdown",
   "id": "fea0e7ea-d96d-4063-8858-db12f6f49b7c",
   "metadata": {},
   "source": [
    "\n",
    "\n",
    "---\n",
    "\n",
    "\n",
    "## Part 2: Exploring the Discrete Fourier Transform (DFT) & Fast Fourier Transform (FFT) [4 pts]\n",
    "In practice we use the **FFT** instead of the raw DFT. The DFT is *very slow* $(O(N^2))$! The FFT is simply an efficient implementation of DFT - it's not really a different algorithm so to speak.\n",
    "\n",
    "One thing to note is that the DFT and the FFT gives us frequency information on a *global* level, without any temporal information (more to come on that next...)\n",
    "\n",
    "Let's focus on working with numpy's fft to begin with: https://numpy.org/doc/2.1/reference/generated/numpy.fft.fft.html#numpy.fft.fft."
   ]
  },
  {
   "cell_type": "code",
   "execution_count": null,
   "id": "3740ced7-fd0e-45ec-bc36-8c0c8e08afd1",
   "metadata": {},
   "outputs": [],
   "source": [
    "# TODO: Yay! Write your own function to get the FFT of a signal. [1.5 pts]\n",
    "# There are a couple nuances here - follow the comments closely to fill-in the blanks here.\n",
    "\n",
    "def get_fft_spectrum(x, sr):\n",
    "    \"\"\"\n",
    "    Computes the Fast Fourier Transform (FFT) of a 1D signal and\n",
    "    cleans it up for a spectrum plot.\n",
    "\n",
    "    Parameters:\n",
    "    -----------\n",
    "        x : numpy.ndarray\n",
    "            Input signal, a 1D array.\n",
    "        sr : int\n",
    "            Sampling rate of the input signal.\n",
    "    Returns:\n",
    "    -------\n",
    "        trunc_freq_bins : numpy.ndarray\n",
    "            A 1D array containing the frequency bins.\n",
    "            Truncated at N/2.\n",
    "        trunc_fft : numpy.ndarray\n",
    "            A 1D array containing the FFT values.\n",
    "            Tuncated at N/2.\n",
    "    \"\"\"\n",
    "    # Fill in each step below:\n",
    "    \n",
    "    # Let N = number of samples\n",
    "\n",
    "    # Define the frequency resolution (from slides)\n",
    "    # And use this to define the frequency bins\n",
    "    # Hint: use np.arange for the frequency bins...\n",
    "\n",
    "    # Get the FFT of X. Note this will include complex values.\n",
    "\n",
    "    # Because the FFT is symmetric around N/2:\n",
    "    # Truncate the frequency bins to only include the first half\n",
    "\n",
    "    # For the FFT itself, get rid of the complex portion \n",
    "    # and truncate to only include the first half\n",
    "\n",
    "    # Finally normalize the magnitude of the FFT by the number of samples it has\n",
    "\n",
    "    # Return your frequency bins and FFT values\n",
    "    return\n"
   ]
  },
  {
   "cell_type": "markdown",
   "id": "edbd0d9e-00d2-4518-a048-385b34dd46c0",
   "metadata": {},
   "source": [
    "#### Using your FFT function"
   ]
  },
  {
   "cell_type": "code",
   "execution_count": null,
   "id": "801905c5-1799-42ac-918b-15cc0a63079d",
   "metadata": {},
   "outputs": [],
   "source": [
    "# TODO : Let's try out your function with a simple example [0.1 pt]\n",
    "\"\"\"\n",
    "`x`: freq=1, amp=4, duration=1, sr=100\n",
    "\"\"\"\n",
    "x = None\n",
    "\n",
    "# TODO : Now add a second wave to it, with freq=3, amp=1,d duration=1, sr=100\n",
    "\n",
    "# TODO : Plot the additive waveform"
   ]
  },
  {
   "cell_type": "code",
   "execution_count": null,
   "id": "74dcd1a1-c889-4333-bbfa-21c3299b02b8",
   "metadata": {},
   "outputs": [],
   "source": [
    "# TODO : Use your FFT function to get the freqs and FFT bins for x. [0.1 pt]\n",
    "\n",
    "# TODO : Plot the spectrum [0.1 pt]\n",
    "# Hint: use plt.stem()\n"
   ]
  },
  {
   "cell_type": "markdown",
   "id": "112a65e0-7616-40f8-a201-cbbe012d3170",
   "metadata": {},
   "source": [
    "\n",
    "**TODO**: Create a sine wave with `amp=1`, `freq=5.5`, `duration=1`, `sr=100`.  \n",
    "\n",
    "**For each scenario below**, create a plot containing two subplots: the top row should show the time domain signal, and the bottom row plot should show the magnitude spectrum, from your FFT function.\n",
    "\n",
    "Do this three times, with the three variations shown below:\n"
   ]
  },
  {
   "cell_type": "markdown",
   "id": "fa9ce0bd-3a8f-44c5-8054-df7c4a2a861e",
   "metadata": {},
   "source": [
    "#### FFT Part 1: Original Signal"
   ]
  },
  {
   "cell_type": "code",
   "execution_count": null,
   "id": "0ebf9b3d-dfce-4a28-9cd9-65310878ee47",
   "metadata": {},
   "outputs": [],
   "source": [
    "# TODO : Part 1 [0.5 pt]\n",
    "# Plot the original time domain signal and magnitude spectrum of the signal described above.\n",
    "\"\"\"\n",
    "`y`: amp = 1, freq=5.5, duration=1, phase = 0, sr=100\n",
    "\"\"\"\n",
    "y = None"
   ]
  },
  {
   "cell_type": "markdown",
   "id": "16413503-4dcc-48e3-b345-3601b22e64a6",
   "metadata": {},
   "source": [
    "❓ **TODO: 5.** Why are there peaks in the spectrum at frequencies besides 5.5hz, if this is a pure sine wave? What is this phenomena called? [0.1 pt]\n",
    "\n",
    "- **ANSWER:**"
   ]
  },
  {
   "cell_type": "markdown",
   "id": "174adf02-9f2e-4d1b-b663-bdbae5be25cb",
   "metadata": {},
   "source": [
    "#### FFT Part 2: Padding"
   ]
  },
  {
   "cell_type": "code",
   "execution_count": null,
   "id": "82cc4d44-8551-4d72-b7ba-081f19f499d8",
   "metadata": {},
   "outputs": [],
   "source": [
    "# TODO : Part 2 [0.5 pt]\n",
    "# Zero-pad the end of the [same] signal to make it 4x the length of the original signal.\n",
    "# Plot this new signal and the spectrum.\n"
   ]
  },
  {
   "cell_type": "markdown",
   "id": "4e6d3cf3-112b-4248-98e3-f4b0b0299414",
   "metadata": {},
   "source": [
    "❓ **TODO: 6.** How does this change the spectrum vs. the original one without zero-padding? [0.1 pt]\n",
    "\n",
    "- **ANSWER**: \n"
   ]
  },
  {
   "cell_type": "markdown",
   "id": "ff27939b-2731-42f5-83ee-71e01afe8ba4",
   "metadata": {},
   "source": [
    "#### FFT Part 3: Windowing\n"
   ]
  },
  {
   "cell_type": "code",
   "execution_count": null,
   "id": "8e2e1ca9-2b90-4e16-bc05-3031700c43c7",
   "metadata": {},
   "outputs": [],
   "source": [
    "# TODO : Part 3 [0.5 pt]\n",
    "# Apply a window to the [same] signal. Experiment with at least two window types.\n",
    "# Hint: zero-pad the windowed signal to 4x the original length, as we did in part 2.\n"
   ]
  },
  {
   "cell_type": "markdown",
   "id": "3dd2d341-ce3c-42e6-9f33-a64b11990fa3",
   "metadata": {},
   "source": [
    "🥳🥳🥳 **Nice!**\n",
    "\n",
    "From here on out, **zero-padding** and **windowing** will be used almost always, because of the effects we showed above."
   ]
  },
  {
   "cell_type": "markdown",
   "id": "2e02473a-7dde-4410-a7ee-178ea8cc840e",
   "metadata": {},
   "source": [
    "--- \n",
    "### Applying the FFT to real audio [0.5 pt]\n",
    "\n",
    "**TODO:** Use your function to get the frequency bins and FFT of the **FIRST 4000** samples of the trumpet sample from Librosa above. \n",
    "\n",
    "We want to isolate this to just a single note for the purpose of this exercise, which is why we're truncating here."
   ]
  },
  {
   "cell_type": "code",
   "execution_count": null,
   "id": "527696b2-f107-42a6-84b3-45c099e2f950",
   "metadata": {},
   "outputs": [],
   "source": [
    "# TODO: Load the trumpet sample and truncate to 4k samples\n"
   ]
  },
  {
   "cell_type": "code",
   "execution_count": null,
   "id": "fe4b65a8-5c93-4027-850d-e51f2f44d184",
   "metadata": {},
   "outputs": [],
   "source": [
    "# TODO: Play the audio and plot it\n"
   ]
  },
  {
   "cell_type": "code",
   "execution_count": null,
   "id": "05ced871-f76d-4c82-9f9f-f1a9d1024e68",
   "metadata": {},
   "outputs": [],
   "source": [
    "# TODO: Use your FFT function on the trumpet sample above.\n",
    "# Plot the spectrum. Do the peaks correspond with the pitch of this note as expected?\n"
   ]
  },
  {
   "cell_type": "markdown",
   "id": "12992821-b7e1-4881-8e0a-54afa8df5db9",
   "metadata": {},
   "source": [
    "\n",
    "\n",
    "---\n",
    "\n",
    "## Part 3: FFT -> Short Time Fourier Transform (STFT) & Spectrograms [4 pts]\n",
    "The STFT applies the FFT to short frames of time, i.e. **\"frames\"**, yielding a time-frequency representation of a signal instead of a simple spectrum. Because we are applying this at a \"frame\" level, there are a number of parameters to play with that provide different tradeoffs in terms of temporal and frequency resolution.\n",
    "\n",
    "❓ 7. What do you gain from using the STFT vs the DFT/FFT? [0.1 pt]\n",
    "\n",
    "- **ANSWER**: \n",
    "\n",
    "❓ 8. How many STFT output frames would there be given a 2-sec signal with sample rate 16,000, with a frame size of 1024 and hop size of 512? Show your calculations. [0.1 pt]\n",
    "\n",
    "- **ANSWER**: \n",
    "\n",
    "\n",
    "#### Next you'll be designing your own STFT function!"
   ]
  },
  {
   "cell_type": "code",
   "execution_count": null,
   "id": "1672794e-927b-42ae-b100-c2425b859d5e",
   "metadata": {},
   "outputs": [],
   "source": [
    "# TODO : Write a function for a basic STFT, following the function def below. [2 pt]\n",
    "# DO NOT USE LIBROSA, but you can use numpy :)\n",
    "# Hint: use \"np.fft.rfft\" to only get the real, non-negative frequencies here\n",
    "# Hint: use zero-padding to add a half frame of padding to the start and end of the signal to make sure no info is lost.\n",
    "\n",
    "def simple_stft(x, frame_len, hop_len, window_type='boxcar'):\n",
    "    \"\"\"\n",
    "    Computes the Short-Time Fourier Transform (STFT) of a 1D signal.\n",
    "\n",
    "    Parameters:\n",
    "    -----------\n",
    "        x : numpy.ndarray\n",
    "            Input signal, a 1D array.\n",
    "        frame_len :  int\n",
    "            Length of each frame (window size).\n",
    "        hop_len : int\n",
    "            Hop length between consecutive frames.\n",
    "        window_type : str\n",
    "            Type of window e.g. \"hann\", \"boxcar\".\n",
    "\n",
    "    Returns:\n",
    "    --------\n",
    "    stft_result : numpy.ndarray\n",
    "        A 2D array (n_freqs, n_frames) where each row corresponds to the real,\n",
    "        non-negative frequency components of a frame.\n",
    "\n",
    "    \"\"\"\n",
    "    return"
   ]
  },
  {
   "cell_type": "code",
   "execution_count": null,
   "id": "6c9fccee-66c1-4564-99d5-156e3a0712d1",
   "metadata": {},
   "outputs": [],
   "source": [
    "# TODO : sanity check 1 [0.1]\n",
    "# Run these checks on dummy signals to make sure your STFT has the right number of frames.\n",
    "sig = np.random.rand((200))\n",
    "test1 = simple_stft(sig, frame_len=80, hop_len=30, window_type='boxcar')\n",
    "print(test1.shape)\n",
    "assert test1.shape == (41,7)"
   ]
  },
  {
   "cell_type": "code",
   "execution_count": null,
   "id": "d5cd5b77-2bd3-40d6-96d9-08dcad97b3c3",
   "metadata": {},
   "outputs": [],
   "source": [
    "# TODO : sanity check 2 [0.1]\n",
    "sig2 = np.random.rand((200))\n",
    "test2 = simple_stft(sig2, frame_len=80, hop_len=80, window_type='boxcar')\n",
    "print(test2.shape)\n",
    "assert test2.shape == (41,3)"
   ]
  },
  {
   "cell_type": "code",
   "execution_count": null,
   "id": "e9148b2d-79fa-4cf8-94f2-73fb5ec3aef5",
   "metadata": {},
   "outputs": [],
   "source": [
    "# TODO : sanity check 3 [0.1]\n",
    "sig3 = np.random.rand((200))\n",
    "test3 = simple_stft(sig3, frame_len=80, hop_len=100, window_type='boxcar')\n",
    "print(test3.shape)\n",
    "assert test3.shape == (41,3)"
   ]
  },
  {
   "cell_type": "code",
   "execution_count": null,
   "id": "a4e64fb3-4f9d-49bf-b100-784b2f94b507",
   "metadata": {},
   "outputs": [],
   "source": [
    "# TODO : Confirm your answer to question #8 using your function and a dummy signal [0.1]\n"
   ]
  },
  {
   "cell_type": "markdown",
   "id": "208b4be9-50d1-4b34-adbc-8fba7e9b34c6",
   "metadata": {},
   "source": [
    "### STFT -> Spectrograms\n",
    "Now let's apply your STFT function to real audio."
   ]
  },
  {
   "cell_type": "code",
   "execution_count": null,
   "id": "8a5e38ee-c43f-433c-8ec2-f3bb3156b30c",
   "metadata": {},
   "outputs": [],
   "source": [
    "# Let's use the Librosa trumpet example file from above to work with our STFT [0.1]\n",
    "# TODO : load the trumpet audio, and truncate it to be only 3 seconds long.\n"
   ]
  },
  {
   "cell_type": "code",
   "execution_count": null,
   "id": "8bacd4e4-1943-41c6-b704-32947959c062",
   "metadata": {},
   "outputs": [],
   "source": [
    "# TODO : Run `simple_stft` with three different sets of parameters:  [0.2 pt]\n",
    "\"\"\"\n",
    "`stft1`:  frame_len=1024, hop_len=512, window='boxcar'\n",
    "`stft2`:  frame_len=1024, hop_len=512, window='hann'\n",
    "`stft3`:  frame_len=1024, hop_len=2056, window='hann'\n",
    "\"\"\"\n",
    "stft1 = None\n",
    "stft2 = None\n",
    "stft3 = None\n",
    "\n",
    "# TODO : Plot a spectrogram from each of these STFTs (THREE PLOTS TOTAL) [1 pt]\n",
    "# Hint: You can use plt.imshow (with some finagling), or check out librosa.display.specshow\n",
    "# Hint: You will need to take the absolute value of the STFT and also convert it from amplitude to DB. \n"
   ]
  },
  {
   "cell_type": "markdown",
   "id": "9a669e14-1555-48a9-853e-f9611a1d5e31",
   "metadata": {},
   "source": [
    "❓ **9.** What do you notice about the differences between each of these spectrograms? [0.1 pt]\n",
    "\n",
    "- **ANSWER**: \n"
   ]
  },
  {
   "cell_type": "markdown",
   "id": "d72f2212-a7e5-4de2-89ef-bff9a051f85e",
   "metadata": {},
   "source": [
    "---"
   ]
  },
  {
   "cell_type": "markdown",
   "id": "2f540a3c-f88a-447a-8420-9d9d6e97509d",
   "metadata": {},
   "source": [
    "## Extra Credit [0.5 pts, partial possible]\n",
    "Taking what you've learned above one step further: \n",
    "- Plot the STFT of the truncated trumpet sample from the previous exercise in both *linear* and *log* spectrogram scaling.\n",
    "- Use a function from `librosa` to pitch shift the sample up or down a significant amount (e.g. 10+ steps).\n",
    "- Plot this pitch-shifted signal in both linear and log spectrograms.\n",
    "\n",
    "❓ **EC** What do you notice about how the spacing of the harmonics in linear vs. log-scaled spectrograms? Write down some observations of the original and pitch shifted signals in these two settings."
   ]
  }
 ],
 "metadata": {
  "kernelspec": {
   "display_name": "Python [conda env:MLenv] *",
   "language": "python",
   "name": "conda-env-MLenv-py"
  },
  "language_info": {
   "codemirror_mode": {
    "name": "ipython",
    "version": 3
   },
   "file_extension": ".py",
   "mimetype": "text/x-python",
   "name": "python",
   "nbconvert_exporter": "python",
   "pygments_lexer": "ipython3",
   "version": "3.9.21"
  }
 },
 "nbformat": 4,
 "nbformat_minor": 5
}
